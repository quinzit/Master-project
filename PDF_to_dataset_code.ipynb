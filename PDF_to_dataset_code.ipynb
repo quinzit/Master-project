{
  "nbformat": 4,
  "nbformat_minor": 0,
  "metadata": {
    "colab": {
      "provenance": [],
      "authorship_tag": "ABX9TyM5Il7lg3DCQUgFuERWs5ax",
      "include_colab_link": true
    },
    "kernelspec": {
      "name": "python3",
      "display_name": "Python 3"
    },
    "language_info": {
      "name": "python"
    }
  },
  "cells": [
    {
      "cell_type": "markdown",
      "metadata": {
        "id": "view-in-github",
        "colab_type": "text"
      },
      "source": [
        "<a href=\"https://colab.research.google.com/github/quinzit/Master-project/blob/main/PDF_to_dataset_code.ipynb\" target=\"_parent\"><img src=\"https://colab.research.google.com/assets/colab-badge.svg\" alt=\"Open In Colab\"/></a>"
      ]
    },
    {
      "cell_type": "code",
      "source": [
        "!pip install pdfplumber\n"
      ],
      "metadata": {
        "colab": {
          "base_uri": "https://localhost:8080/"
        },
        "id": "bvkX1rQbCj9H",
        "outputId": "864d3ff0-7fda-4046-8f40-ad4de3febe45"
      },
      "execution_count": 2,
      "outputs": [
        {
          "output_type": "stream",
          "name": "stdout",
          "text": [
            "Collecting pdfplumber\n",
            "  Downloading pdfplumber-0.11.6-py3-none-any.whl.metadata (42 kB)\n",
            "\u001b[?25l     \u001b[90m━━━━━━━━━━━━━━━━━━━━━━━━━━━━━━━━━━━━━━━━\u001b[0m \u001b[32m0.0/42.8 kB\u001b[0m \u001b[31m?\u001b[0m eta \u001b[36m-:--:--\u001b[0m\r\u001b[2K     \u001b[90m━━━━━━━━━━━━━━━━━━━━━━━━━━━━━━━━━━━━━━━━\u001b[0m \u001b[32m42.8/42.8 kB\u001b[0m \u001b[31m2.6 MB/s\u001b[0m eta \u001b[36m0:00:00\u001b[0m\n",
            "\u001b[?25hCollecting pdfminer.six==20250327 (from pdfplumber)\n",
            "  Downloading pdfminer_six-20250327-py3-none-any.whl.metadata (4.1 kB)\n",
            "Requirement already satisfied: Pillow>=9.1 in /usr/local/lib/python3.11/dist-packages (from pdfplumber) (11.2.1)\n",
            "Collecting pypdfium2>=4.18.0 (from pdfplumber)\n",
            "  Downloading pypdfium2-4.30.1-py3-none-manylinux_2_17_x86_64.manylinux2014_x86_64.whl.metadata (48 kB)\n",
            "\u001b[2K     \u001b[90m━━━━━━━━━━━━━━━━━━━━━━━━━━━━━━━━━━━━━━━━\u001b[0m \u001b[32m48.2/48.2 kB\u001b[0m \u001b[31m2.5 MB/s\u001b[0m eta \u001b[36m0:00:00\u001b[0m\n",
            "\u001b[?25hRequirement already satisfied: charset-normalizer>=2.0.0 in /usr/local/lib/python3.11/dist-packages (from pdfminer.six==20250327->pdfplumber) (3.4.1)\n",
            "Requirement already satisfied: cryptography>=36.0.0 in /usr/local/lib/python3.11/dist-packages (from pdfminer.six==20250327->pdfplumber) (43.0.3)\n",
            "Requirement already satisfied: cffi>=1.12 in /usr/local/lib/python3.11/dist-packages (from cryptography>=36.0.0->pdfminer.six==20250327->pdfplumber) (1.17.1)\n",
            "Requirement already satisfied: pycparser in /usr/local/lib/python3.11/dist-packages (from cffi>=1.12->cryptography>=36.0.0->pdfminer.six==20250327->pdfplumber) (2.22)\n",
            "Downloading pdfplumber-0.11.6-py3-none-any.whl (60 kB)\n",
            "\u001b[2K   \u001b[90m━━━━━━━━━━━━━━━━━━━━━━━━━━━━━━━━━━━━━━━━\u001b[0m \u001b[32m60.2/60.2 kB\u001b[0m \u001b[31m4.1 MB/s\u001b[0m eta \u001b[36m0:00:00\u001b[0m\n",
            "\u001b[?25hDownloading pdfminer_six-20250327-py3-none-any.whl (5.6 MB)\n",
            "\u001b[2K   \u001b[90m━━━━━━━━━━━━━━━━━━━━━━━━━━━━━━━━━━━━━━━━\u001b[0m \u001b[32m5.6/5.6 MB\u001b[0m \u001b[31m78.1 MB/s\u001b[0m eta \u001b[36m0:00:00\u001b[0m\n",
            "\u001b[?25hDownloading pypdfium2-4.30.1-py3-none-manylinux_2_17_x86_64.manylinux2014_x86_64.whl (2.9 MB)\n",
            "\u001b[2K   \u001b[90m━━━━━━━━━━━━━━━━━━━━━━━━━━━━━━━━━━━━━━━━\u001b[0m \u001b[32m2.9/2.9 MB\u001b[0m \u001b[31m81.1 MB/s\u001b[0m eta \u001b[36m0:00:00\u001b[0m\n",
            "\u001b[?25hInstalling collected packages: pypdfium2, pdfminer.six, pdfplumber\n",
            "Successfully installed pdfminer.six-20250327 pdfplumber-0.11.6 pypdfium2-4.30.1\n"
          ]
        }
      ]
    },
    {
      "cell_type": "code",
      "source": [
        "import logging\n",
        "logging.getLogger(\"pdfminer\").setLevel(logging.ERROR)\n"
      ],
      "metadata": {
        "id": "QbOaZxFmV35B"
      },
      "execution_count": 24,
      "outputs": []
    },
    {
      "cell_type": "code",
      "execution_count": 25,
      "metadata": {
        "id": "kF_RhTRXCPFa"
      },
      "outputs": [],
      "source": [
        "import pdfplumber\n",
        "import pandas as pd\n",
        "import os"
      ]
    },
    {
      "cell_type": "code",
      "source": [
        "from google.colab import files\n",
        "uploaded = files.upload()\n"
      ],
      "metadata": {
        "colab": {
          "base_uri": "https://localhost:8080/",
          "height": 73
        },
        "id": "yC443sK6CqMu",
        "outputId": "f6efa208-475f-4991-e492-3b1ad2842edf"
      },
      "execution_count": 26,
      "outputs": [
        {
          "output_type": "display_data",
          "data": {
            "text/plain": [
              "<IPython.core.display.HTML object>"
            ],
            "text/html": [
              "\n",
              "     <input type=\"file\" id=\"files-a15c3967-c716-45a9-9582-1e36e639fe76\" name=\"files[]\" multiple disabled\n",
              "        style=\"border:none\" />\n",
              "     <output id=\"result-a15c3967-c716-45a9-9582-1e36e639fe76\">\n",
              "      Upload widget is only available when the cell has been executed in the\n",
              "      current browser session. Please rerun this cell to enable.\n",
              "      </output>\n",
              "      <script>// Copyright 2017 Google LLC\n",
              "//\n",
              "// Licensed under the Apache License, Version 2.0 (the \"License\");\n",
              "// you may not use this file except in compliance with the License.\n",
              "// You may obtain a copy of the License at\n",
              "//\n",
              "//      http://www.apache.org/licenses/LICENSE-2.0\n",
              "//\n",
              "// Unless required by applicable law or agreed to in writing, software\n",
              "// distributed under the License is distributed on an \"AS IS\" BASIS,\n",
              "// WITHOUT WARRANTIES OR CONDITIONS OF ANY KIND, either express or implied.\n",
              "// See the License for the specific language governing permissions and\n",
              "// limitations under the License.\n",
              "\n",
              "/**\n",
              " * @fileoverview Helpers for google.colab Python module.\n",
              " */\n",
              "(function(scope) {\n",
              "function span(text, styleAttributes = {}) {\n",
              "  const element = document.createElement('span');\n",
              "  element.textContent = text;\n",
              "  for (const key of Object.keys(styleAttributes)) {\n",
              "    element.style[key] = styleAttributes[key];\n",
              "  }\n",
              "  return element;\n",
              "}\n",
              "\n",
              "// Max number of bytes which will be uploaded at a time.\n",
              "const MAX_PAYLOAD_SIZE = 100 * 1024;\n",
              "\n",
              "function _uploadFiles(inputId, outputId) {\n",
              "  const steps = uploadFilesStep(inputId, outputId);\n",
              "  const outputElement = document.getElementById(outputId);\n",
              "  // Cache steps on the outputElement to make it available for the next call\n",
              "  // to uploadFilesContinue from Python.\n",
              "  outputElement.steps = steps;\n",
              "\n",
              "  return _uploadFilesContinue(outputId);\n",
              "}\n",
              "\n",
              "// This is roughly an async generator (not supported in the browser yet),\n",
              "// where there are multiple asynchronous steps and the Python side is going\n",
              "// to poll for completion of each step.\n",
              "// This uses a Promise to block the python side on completion of each step,\n",
              "// then passes the result of the previous step as the input to the next step.\n",
              "function _uploadFilesContinue(outputId) {\n",
              "  const outputElement = document.getElementById(outputId);\n",
              "  const steps = outputElement.steps;\n",
              "\n",
              "  const next = steps.next(outputElement.lastPromiseValue);\n",
              "  return Promise.resolve(next.value.promise).then((value) => {\n",
              "    // Cache the last promise value to make it available to the next\n",
              "    // step of the generator.\n",
              "    outputElement.lastPromiseValue = value;\n",
              "    return next.value.response;\n",
              "  });\n",
              "}\n",
              "\n",
              "/**\n",
              " * Generator function which is called between each async step of the upload\n",
              " * process.\n",
              " * @param {string} inputId Element ID of the input file picker element.\n",
              " * @param {string} outputId Element ID of the output display.\n",
              " * @return {!Iterable<!Object>} Iterable of next steps.\n",
              " */\n",
              "function* uploadFilesStep(inputId, outputId) {\n",
              "  const inputElement = document.getElementById(inputId);\n",
              "  inputElement.disabled = false;\n",
              "\n",
              "  const outputElement = document.getElementById(outputId);\n",
              "  outputElement.innerHTML = '';\n",
              "\n",
              "  const pickedPromise = new Promise((resolve) => {\n",
              "    inputElement.addEventListener('change', (e) => {\n",
              "      resolve(e.target.files);\n",
              "    });\n",
              "  });\n",
              "\n",
              "  const cancel = document.createElement('button');\n",
              "  inputElement.parentElement.appendChild(cancel);\n",
              "  cancel.textContent = 'Cancel upload';\n",
              "  const cancelPromise = new Promise((resolve) => {\n",
              "    cancel.onclick = () => {\n",
              "      resolve(null);\n",
              "    };\n",
              "  });\n",
              "\n",
              "  // Wait for the user to pick the files.\n",
              "  const files = yield {\n",
              "    promise: Promise.race([pickedPromise, cancelPromise]),\n",
              "    response: {\n",
              "      action: 'starting',\n",
              "    }\n",
              "  };\n",
              "\n",
              "  cancel.remove();\n",
              "\n",
              "  // Disable the input element since further picks are not allowed.\n",
              "  inputElement.disabled = true;\n",
              "\n",
              "  if (!files) {\n",
              "    return {\n",
              "      response: {\n",
              "        action: 'complete',\n",
              "      }\n",
              "    };\n",
              "  }\n",
              "\n",
              "  for (const file of files) {\n",
              "    const li = document.createElement('li');\n",
              "    li.append(span(file.name, {fontWeight: 'bold'}));\n",
              "    li.append(span(\n",
              "        `(${file.type || 'n/a'}) - ${file.size} bytes, ` +\n",
              "        `last modified: ${\n",
              "            file.lastModifiedDate ? file.lastModifiedDate.toLocaleDateString() :\n",
              "                                    'n/a'} - `));\n",
              "    const percent = span('0% done');\n",
              "    li.appendChild(percent);\n",
              "\n",
              "    outputElement.appendChild(li);\n",
              "\n",
              "    const fileDataPromise = new Promise((resolve) => {\n",
              "      const reader = new FileReader();\n",
              "      reader.onload = (e) => {\n",
              "        resolve(e.target.result);\n",
              "      };\n",
              "      reader.readAsArrayBuffer(file);\n",
              "    });\n",
              "    // Wait for the data to be ready.\n",
              "    let fileData = yield {\n",
              "      promise: fileDataPromise,\n",
              "      response: {\n",
              "        action: 'continue',\n",
              "      }\n",
              "    };\n",
              "\n",
              "    // Use a chunked sending to avoid message size limits. See b/62115660.\n",
              "    let position = 0;\n",
              "    do {\n",
              "      const length = Math.min(fileData.byteLength - position, MAX_PAYLOAD_SIZE);\n",
              "      const chunk = new Uint8Array(fileData, position, length);\n",
              "      position += length;\n",
              "\n",
              "      const base64 = btoa(String.fromCharCode.apply(null, chunk));\n",
              "      yield {\n",
              "        response: {\n",
              "          action: 'append',\n",
              "          file: file.name,\n",
              "          data: base64,\n",
              "        },\n",
              "      };\n",
              "\n",
              "      let percentDone = fileData.byteLength === 0 ?\n",
              "          100 :\n",
              "          Math.round((position / fileData.byteLength) * 100);\n",
              "      percent.textContent = `${percentDone}% done`;\n",
              "\n",
              "    } while (position < fileData.byteLength);\n",
              "  }\n",
              "\n",
              "  // All done.\n",
              "  yield {\n",
              "    response: {\n",
              "      action: 'complete',\n",
              "    }\n",
              "  };\n",
              "}\n",
              "\n",
              "scope.google = scope.google || {};\n",
              "scope.google.colab = scope.google.colab || {};\n",
              "scope.google.colab._files = {\n",
              "  _uploadFiles,\n",
              "  _uploadFilesContinue,\n",
              "};\n",
              "})(self);\n",
              "</script> "
            ]
          },
          "metadata": {}
        },
        {
          "output_type": "stream",
          "name": "stdout",
          "text": [
            "Saving Test.zip to Test (2).zip\n"
          ]
        }
      ]
    },
    {
      "cell_type": "code",
      "source": [
        "import zipfile\n",
        "import os\n",
        "\n",
        "# Extract uploaded ZIP file\n",
        "zip_path = \"Test.zip\"  # make sure this matches the file you upload\n",
        "extract_dir = \"pdfs\"\n",
        "\n",
        "with zipfile.ZipFile(zip_path, 'r') as zip_ref:\n",
        "    zip_ref.extractall(extract_dir)\n",
        "\n",
        "print(\"✅ Files extracted to:\", extract_dir)\n"
      ],
      "metadata": {
        "colab": {
          "base_uri": "https://localhost:8080/"
        },
        "id": "6uY_kruFDZ9f",
        "outputId": "31833a63-acb3-4a9b-907b-1b0ae6c6b467"
      },
      "execution_count": 27,
      "outputs": [
        {
          "output_type": "stream",
          "name": "stdout",
          "text": [
            "✅ Files extracted to: pdfs\n"
          ]
        }
      ]
    },
    {
      "cell_type": "code",
      "source": [
        "import os\n",
        "\n",
        "print(\"📁 Files inside extracted folder:\")\n",
        "for root, dirs, files in os.walk(\"pdfs\"):\n",
        "    for file in files:\n",
        "        print(os.path.join(root, file))\n"
      ],
      "metadata": {
        "colab": {
          "base_uri": "https://localhost:8080/"
        },
        "id": "B82Qeb_oUyLE",
        "outputId": "05f1bf7a-882d-4b6f-d8f8-ed724e539df5"
      },
      "execution_count": 28,
      "outputs": [
        {
          "output_type": "stream",
          "name": "stdout",
          "text": [
            "📁 Files inside extracted folder:\n",
            "pdfs/Test/order-O2025-3238.pdf\n",
            "pdfs/Test/order-O2025-3248.pdf\n",
            "pdfs/Test/order-O2025-3244.pdf\n"
          ]
        }
      ]
    },
    {
      "cell_type": "code",
      "source": [
        "import pdfplumber\n",
        "import os\n",
        "\n",
        "pdf_dir = \"pdfs/Test\"\n",
        "\n",
        "for filename in os.listdir(pdf_dir):\n",
        "    if filename.endswith(\".pdf\"):\n",
        "        full_path = os.path.join(pdf_dir, filename)\n",
        "        print(f\"\\n📄 Inspecting {filename}...\\n\" + \"-\"*50)\n",
        "\n",
        "        with pdfplumber.open(full_path) as pdf:\n",
        "            page = pdf.pages[0]\n",
        "\n",
        "            # Print raw extracted text\n",
        "            print(\"📜 Raw Text:\")\n",
        "            print(page.extract_text())\n",
        "\n",
        "            # Print all extracted tables\n",
        "            tables = page.extract_tables()\n",
        "            if not tables:\n",
        "                print(\"\\n❌ No tables found.\")\n",
        "            else:\n",
        "                for i, table in enumerate(tables):\n",
        "                    print(f\"\\n✅ Table {i+1} (first 5 rows):\")\n",
        "                    for row in table[:5]:\n",
        "                        print(row)\n"
      ],
      "metadata": {
        "colab": {
          "base_uri": "https://localhost:8080/"
        },
        "id": "6NjROJcSWSrQ",
        "outputId": "f4f1e75b-de7d-4fe1-c5c4-2ee243b72ed5"
      },
      "execution_count": 31,
      "outputs": [
        {
          "output_type": "stream",
          "name": "stdout",
          "text": [
            "\n",
            "📄 Inspecting order-O2025-3238.pdf...\n",
            "--------------------------------------------------\n",
            "📜 Raw Text:\n",
            "Order confirmation O2025-3238\n",
            "2204 - THAI ASIAN FOOD STORE D.O.O Date 03-04-2025\n",
            "Uros Kos Order ID O2025-3238\n",
            "Tugomerjeva Ulica 35 Reference Order 6276\n",
            "1000 Ljubljana\n",
            "Slovenia\n",
            "thaiasianfoodstore@gmail.com\n",
            "Product code Name Amount Price Total\n",
            "1350 / 01-2026 L.R TB Bean Vermicelli 100x120g TH 3 € 0,00 € 0,00\n",
            "1357 / 01-2026 L.R TB Dried Rice Noodle 100x120g TH 3 € 0,00 € 0,00\n",
            "1351 / 01-2026 L.R TB Rice Vermicelli 100x130g TH 3 € 0,00 € 0,00\n",
            "2922 / 07-2027 Chilli Powder 50x100g TH 1 € 0,00 € 0,00\n",
            "2923 / 07-2026 DOUBLE PANDA Dehydrated Small Chilli Without Stem 50x100g TH 2 € 0,00 € 0,00\n",
            "4901 / 02-2026 AROY-D coconut milk 12x1000ml TH 33 € 0,00 € 0,00\n",
            "1508A / 12-2025 SAM YANG hot chicken ramen CarboMulti 8x5x130g KR 22 € 0,00 € 0,00\n",
            "4282 / 05-2026 LGM Crispy chilli in oil 24x210g CN 5 € 0,00 € 0,00\n",
            "3404 / 04-2026 LGM Crispy Chilli in Oil 12x670g CN 2 € 0,00 € 0,00\n",
            "Total € 0,00\n",
            "BTW (10%) € 0,00\n",
            "Total € 0,00\n",
            "Customer remarks\n",
            "1 pallet. Thank you.\n",
            "Page 1\n",
            "\n",
            "❌ No tables found.\n",
            "\n",
            "📄 Inspecting order-O2025-3248.pdf...\n",
            "--------------------------------------------------\n",
            "📜 Raw Text:\n",
            "Order confirmation O2025-3248\n",
            "1614 - TRAN SOAN GmbH Date 03-04-2025\n",
            "TRAN SOAN GmbH Order ID O2025-3248\n",
            "Darmstädter Str. 73 Reference LTP order 6401\n",
            "64572 Büttelborn\n",
            "Germany\n",
            "info@transoan.com\n",
            "Product code Name Amount Price Total\n",
            "6816 / 01-2027 THV Pia Cake - Durian Mung Bean 30x600g VN 1 € 0,00 € 0,00\n",
            "2416 / 10-2026 VINH THUAN Pyramidal Dumpling Flour Bot Banh Gio 20x400g VN 1 € 0,00 € 0,00\n",
            "8205 / 01-2027 PANDA Plait Biscuits Banh quai cheo 24x300g VN 1 € 0,00 € 0,00\n",
            "3225 / 10-2025 Mushroom Seasoning 16x380g VN 10 € 0,00 € 0,00\n",
            "8919 / 11-2025 Crispy Snacks Seaweed Flavor 18x60g TH 1 € 0,00 € 0,00\n",
            "8283 / 05-2026 DP Vietnamese Biscuit 24x200g VN 1 € 0,00 € 0,00\n",
            "8257 / 10-2025 Chocolate Wafer Roll 20x54g VN 1 € 0,00 € 0,00\n",
            "8256 / 10-2025 Vanilla Wafer Roll 20x54g VN 1 € 0,00 € 0,00\n",
            "8204 / 01-2027 PANDA Coconut Coloured Biscuit Banh men 24x200g VN 1 € 0,00 € 0,00\n",
            "2218/ 07-2026 BAMBOO TREE Rice vermicelli Bun Tuoi 30x400g VN 30 € 0,00 € 0,00\n",
            "8513 / 04-2025 Fried Brown Rice Cracker with Seaweed 40x200g VN 1 € 0,00 € 0,00\n",
            "8514 / 04-2025 Fried Rice Cracker with Onion 40x200g VN 1 € 0,00 € 0,00\n",
            "Total € 0,00\n",
            "BTW (10%) € 0,00\n",
            "Total € 0,00\n",
            "Customer remarks\n",
            "Monday loading. 1 block please\n",
            "Page 1\n",
            "\n",
            "❌ No tables found.\n",
            "\n",
            "📄 Inspecting order-O2025-3244.pdf...\n",
            "--------------------------------------------------\n",
            "📜 Raw Text:\n",
            "Order confirmation O2025-3244\n",
            "1-LTP IMPORT EXPORT B.V. Date 03-04-2025\n",
            "LTP Order ID O2025-3244\n",
            "Wijkermeerstraat 6\n",
            "2131 HA HOOFDDORP\n",
            "Netherlands\n",
            "Product code Name Amount Price Total\n",
            "3685 FUJI Chili Bean Sauce 24x400g TW 19 € 0,00 € 0,00\n",
            "8931 / 03-2025 MEITIANYILE DIY Windmill Candy Toy 24x30g CN 9 € 0,00 € 0,00\n",
            "9361 / 03-2025 THL Strawberry Juice 20x215g CN 9 € 0,00 € 0,00\n",
            "8981 / 03-2025 MEITIANYILE DIY Chocolate Zoo Candy Toy 36x30g CN 6 € 0,00 € 0,00\n",
            "8793 / 03-2025 LEMANFEN Egg Shaped Cake (Strawberry) 24x180g CN 5 € 0,00 € 0,00\n",
            "8730 / 03-2025 Preserved Sweet Ginger Mut Gung 24x250g VN 4 € 0,00 € 0,00\n",
            "8185 / 03-2025 LEMANFEN White Stick Cake 18x180g CN 3 € 0,00 € 0,00\n",
            "8960 / 03-2025 NOBEL Mario Gummy Cola Melonsoda 6x12x50g JP 3 € 0,00 € 0,00\n",
            "8769 / 03-2025 LEMANFEN Sweet Cake 18x180g CN 3 € 0,00 € 0,00\n",
            "8792 / 03-2025 LEMANFEN Egg Shaped Cake 24x180g CN 2 € 0,00 € 0,00\n",
            "Total € 0,00\n",
            "BTW (27%) € 0,00\n",
            "BTW (10%) € 0,00\n",
            "Total € 0,00\n",
            "Customer remarks\n",
            "Producten met verlopen THT graag weggooien aub\n",
            "Page 1\n",
            "\n",
            "❌ No tables found.\n"
          ]
        }
      ]
    },
    {
      "cell_type": "code",
      "source": [
        "import pdfplumber\n",
        "import pandas as pd\n",
        "import re\n",
        "\n",
        "pdf_dir = \"pdfs/Test\"  # adjust if your ZIP uses a different subfolder\n",
        "all_data = []\n",
        "\n",
        "for filename in os.listdir(pdf_dir):\n",
        "    if filename.endswith(\".pdf\"):\n",
        "        full_path = os.path.join(pdf_dir, filename)\n",
        "        with pdfplumber.open(full_path) as pdf:\n",
        "            page = pdf.pages[0]\n",
        "            lines = page.extract_text().split(\"\\n\")\n",
        "\n",
        "            # 🔎 Extract date\n",
        "            extracted_date = None\n",
        "            for line in lines:\n",
        "                if \"Date\" in line:\n",
        "                    parts = line.split()\n",
        "                    for part in parts:\n",
        "                        if re.match(r\"\\d{2}-\\d{2}-\\d{4}\", part):\n",
        "                            extracted_date = part\n",
        "                            break\n",
        "\n",
        "            # 📊 Find product rows\n",
        "            table_started = False\n",
        "            rows = []\n",
        "            for line in lines:\n",
        "                if line.strip().startswith(\"Product code\"):\n",
        "                    table_started = True\n",
        "                    continue\n",
        "                if table_started:\n",
        "                    if line.strip().startswith(\"Total\"):\n",
        "                        break\n",
        "                    rows.append(line.strip())\n",
        "\n",
        "            # 🧾 Parse each product row\n",
        "            for row in rows:\n",
        "                try:\n",
        "                    # Remove trailing price data\n",
        "                    parts = row.rsplit(\"€\", 2)[0].strip().rsplit(\" \", 1)\n",
        "                    rest = parts[0].strip()\n",
        "                    amount = int(parts[1].strip())\n",
        "\n",
        "                    # Match product code formats:\n",
        "                    # 1508A / 12-2025, 8931 / 03-2025, or 3685\n",
        "                    match = re.match(r\"^([A-Z0-9]+(?:\\s*/\\s*\\d{2,4}-\\d{4})?)\\s+(.*)\", rest)\n",
        "                    if match:\n",
        "                        product_code = match.group(1).replace(\" \", \"\")\n",
        "                        name = match.group(2).strip()\n",
        "                    else:\n",
        "                        tokens = rest.split(\" \", 1)\n",
        "                        product_code = tokens[0].strip()\n",
        "                        name = tokens[1].strip() if len(tokens) > 1 else \"\"\n",
        "\n",
        "                    all_data.append({\n",
        "                        \"Product code\": product_code,\n",
        "                        \"Name\": name,\n",
        "                        \"Amount\": amount,\n",
        "                        \"Date\": extracted_date,\n",
        "                        \"File\": filename\n",
        "                    })\n",
        "                except Exception as e:\n",
        "                    print(f\"⚠️ Skipped row due to error: {row}\\n➡️ Reason: {e}\")\n",
        "#export to csv file:\n",
        "if all_data:\n",
        "    final_df = pd.DataFrame(all_data)\n",
        "    output_file = \"extracted_data.xlsx\"\n",
        "    final_df.to_excel(output_file, index=False)\n",
        "\n",
        "    from google.colab import files\n",
        "    files.download(output_file)\n",
        "    print(\"✅ Done! Excel file is ready to download.\")\n",
        "else:\n",
        "    print(\"❌ No data extracted. Please check PDF content.\")\n"
      ],
      "metadata": {
        "colab": {
          "base_uri": "https://localhost:8080/",
          "height": 34
        },
        "id": "MRJS9jq1Zj35",
        "outputId": "1dbc48a4-ec83-4b73-e88c-395fe0042b63"
      },
      "execution_count": 34,
      "outputs": [
        {
          "output_type": "display_data",
          "data": {
            "text/plain": [
              "<IPython.core.display.Javascript object>"
            ],
            "application/javascript": [
              "\n",
              "    async function download(id, filename, size) {\n",
              "      if (!google.colab.kernel.accessAllowed) {\n",
              "        return;\n",
              "      }\n",
              "      const div = document.createElement('div');\n",
              "      const label = document.createElement('label');\n",
              "      label.textContent = `Downloading \"${filename}\": `;\n",
              "      div.appendChild(label);\n",
              "      const progress = document.createElement('progress');\n",
              "      progress.max = size;\n",
              "      div.appendChild(progress);\n",
              "      document.body.appendChild(div);\n",
              "\n",
              "      const buffers = [];\n",
              "      let downloaded = 0;\n",
              "\n",
              "      const channel = await google.colab.kernel.comms.open(id);\n",
              "      // Send a message to notify the kernel that we're ready.\n",
              "      channel.send({})\n",
              "\n",
              "      for await (const message of channel.messages) {\n",
              "        // Send a message to notify the kernel that we're ready.\n",
              "        channel.send({})\n",
              "        if (message.buffers) {\n",
              "          for (const buffer of message.buffers) {\n",
              "            buffers.push(buffer);\n",
              "            downloaded += buffer.byteLength;\n",
              "            progress.value = downloaded;\n",
              "          }\n",
              "        }\n",
              "      }\n",
              "      const blob = new Blob(buffers, {type: 'application/binary'});\n",
              "      const a = document.createElement('a');\n",
              "      a.href = window.URL.createObjectURL(blob);\n",
              "      a.download = filename;\n",
              "      div.appendChild(a);\n",
              "      a.click();\n",
              "      div.remove();\n",
              "    }\n",
              "  "
            ]
          },
          "metadata": {}
        },
        {
          "output_type": "display_data",
          "data": {
            "text/plain": [
              "<IPython.core.display.Javascript object>"
            ],
            "application/javascript": [
              "download(\"download_2f088996-0149-4815-b1ea-edf0d576f4a4\", \"extracted_data.xlsx\", 6520)"
            ]
          },
          "metadata": {}
        },
        {
          "output_type": "stream",
          "name": "stdout",
          "text": [
            "✅ Done! Excel file is ready to download.\n"
          ]
        }
      ]
    }
  ]
}